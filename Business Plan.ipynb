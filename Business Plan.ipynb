{
 "cells": [
  {
   "cell_type": "markdown",
   "metadata": {},
   "source": [
    "# Business model"
   ]
  },
  {
   "cell_type": "markdown",
   "metadata": {},
   "source": [
    "Free model, with limited services, we can give a trial period for new users for cloud services, and then we can offer users a subscription service"
   ]
  },
  {
   "cell_type": "markdown",
   "metadata": {},
   "source": [
    "We can also charge for extra cards, getting extra cards beyond 10 or 15 costs like 1 dollar for 20, or we can just charge a flat fee for unlimited cards, or both"
   ]
  },
  {
   "cell_type": "markdown",
   "metadata": {},
   "source": [
    "## Equity Distribution"
   ]
  },
  {
   "cell_type": "markdown",
   "metadata": {},
   "source": [
    "Equity distribution will be split relatively equally between the two co-founders, with a certain percentage of equity reserved for future potential partners. After that, any additional partners/employees will dilute the equity of all holders"
   ]
  },
  {
   "cell_type": "markdown",
   "metadata": {},
   "source": [
    "William Han/Lucy Zhao - 40% each. 20% reserved for potential investors/employees"
   ]
  },
  {
   "cell_type": "markdown",
   "metadata": {},
   "source": [
    "### Board Seats"
   ]
  },
  {
   "cell_type": "markdown",
   "metadata": {},
   "source": [
    "As of the signing, there will be two board seats, one for William, one for Lucy. Major decisions will be handled by a vote. Further Seats will be assigned based on equity holdings and approval of the board."
   ]
  },
  {
   "cell_type": "markdown",
   "metadata": {},
   "source": [
    "## Product/MVP Timeline"
   ]
  },
  {
   "cell_type": "markdown",
   "metadata": {},
   "source": [
    "Relatively firm deadlines to push out our MVP.  \n",
    "March 7 - approve of all organizational/official business obligations.   \n",
    "March 8-19 Finish the first prototype.   \n",
    "March 20- Roll out **Closed Beta testing**, collect user data.  \n",
    "March 25- Roll out **Open Beta testing**. Further Iterations   \n",
    "Target Official Launch: **April 2, 2017**"
   ]
  },
  {
   "cell_type": "markdown",
   "metadata": {},
   "source": [
    "### Capital"
   ]
  },
  {
   "cell_type": "markdown",
   "metadata": {},
   "source": [
    "Current Capital will be $5,000 USD raised by William Han. Further capital will be raised as growth increases and ramps up"
   ]
  },
  {
   "cell_type": "markdown",
   "metadata": {},
   "source": [
    "## Purchases"
   ]
  },
  {
   "cell_type": "markdown",
   "metadata": {},
   "source": [
    "Any and all Purchases must be approved by the board."
   ]
  }
 ],
 "metadata": {
  "kernelspec": {
   "display_name": "Python 3",
   "language": "python",
   "name": "python3"
  },
  "language_info": {
   "codemirror_mode": {
    "name": "ipython",
    "version": 3
   },
   "file_extension": ".py",
   "mimetype": "text/x-python",
   "name": "python",
   "nbconvert_exporter": "python",
   "pygments_lexer": "ipython3",
   "version": "3.5.3"
  }
 },
 "nbformat": 4,
 "nbformat_minor": 2
}
